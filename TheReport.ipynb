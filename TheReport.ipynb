{
 "cells": [
  {
   "cell_type": "markdown",
   "metadata": {},
   "source": [
    "# Introduction / Business Problem\n",
    "\n",
    "You are a Turk living in America or a person who loves Turkish food. However, you do not know where there are Turkish restaurants in America. The aim is to find out where Turkish restaurants are located in the big cities of America and to offer the best restaurants.\n",
    "\n",
    "\n",
    "# Data section\n",
    "\n",
    "I'll use the FourSquare API to gather information about Turkish Restaurant locations in seven major US cities: New York, NY, Los Angeles, CA, Washington, D.C., Florida, NY, San Francisco, CA, Houston, TX, and Boston, MA. These are some of the most popular cities in the United States, and I am hopeful that they will have some of the best Turkish restaurants in the country.\n",
    "\n",
    "\n",
    "# Methodology \n",
    "\n",
    "My key goal is to determine which city has the greatest density of Turkish restaurants. Through the venues channel, I used the Four Square API. To find venues in the cities, I used the close question. Additionally, I use the CategoryID to limit the results to Turkish Restaurants Places. Here's an example of one of my requests:\n",
    "https://api.foursquare.com/v2/venues/explore?&client_id=&client_secret=&v=20180605&Florida,NY&limit=100&categoryId=4f04af1f2fb6e1c99f3db0bb\n",
    "The Id of the Turkish Restaurants Category is 4f04af1f2fb6e1c99f3db0bb. In addition, Foursquare only allows one to search for a maximum of 100 venues per request.\n",
    "\n",
    "In addition, I reiterated this appeal for each of the seven cities under consideration. Only the name and coordinate data from the result were saved, and they were plotted on the chart for visual inspection. After that, I measured a center coordinate of the venues to get the mean longitude and latitude values to get an indication of the density of Turkish Restaurant Places.\n",
    "\n",
    "# Results\n",
    "\n",
    "Upon first look, we note that they all have several Turkish restaurant locations, many more than Foursquare would like to have. The geoplot created with folium and you can find the images below in the link.\n",
    "\n",
    "https://nbviewer.jupyter.org/github/Aley123/The-Battle-of-Neighborhoods-Week-1-2-/blob/main/Week2-Codes.ipynb\n",
    "\n",
    "As a result, the cities with the most Turkish restaurants are Florida and New York, respectively. \n",
    "\n",
    "# Discussion\n",
    "\n",
    "One point that needs further work is to move the location of the Foursquare API query and repeat the calculations until we get all the Turkish Restaurants places in each city. More results can be found with a more comprehensive search.\n",
    "\n",
    "\n",
    "# Conclusion\n",
    "\n",
    "There is no question that Florida is the best location in the United States to try a variety of Turkish Restaurants. Also, anyone looking for Turkish Restaurants should go to Florida or New York, rather than Washington, which is the worst."
   ]
  }
 ],
 "metadata": {
  "kernelspec": {
   "display_name": "Python 3",
   "language": "python",
   "name": "python3"
  },
  "language_info": {
   "codemirror_mode": {
    "name": "ipython",
    "version": 3
   },
   "file_extension": ".py",
   "mimetype": "text/x-python",
   "name": "python",
   "nbconvert_exporter": "python",
   "pygments_lexer": "ipython3",
   "version": "3.7.6"
  }
 },
 "nbformat": 4,
 "nbformat_minor": 4
}
