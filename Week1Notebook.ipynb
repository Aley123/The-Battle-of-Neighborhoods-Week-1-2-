{
 "cells": [
  {
   "cell_type": "markdown",
   "metadata": {},
   "source": [
    "# Introduction / Business Problem\n",
    "\n",
    "You are a Turk living in America or a person who loves Turkish food. However, you do not know where there are Turkish restaurants in America. The aim is to find out where Turkish restaurants are located in the big cities of America and to offer the best restaurants.\n",
    "\n",
    "\n",
    "# Data section\n",
    "\n",
    "I'll use the FourSquare API to gather information about Turkish Restaurant locations in seven major US cities: New York, NY, Los Angeles, CA, Washington, D.C., Florida, NY, San Francisco, CA, Houston, TX, and Boston, MA. These are some of the most popular cities in the United States, and I am hopeful that they will have some of the best Turkish restaurants in the country."
   ]
  }
 ],
 "metadata": {
  "kernelspec": {
   "display_name": "Python 3",
   "language": "python",
   "name": "python3"
  },
  "language_info": {
   "codemirror_mode": {
    "name": "ipython",
    "version": 3
   },
   "file_extension": ".py",
   "mimetype": "text/x-python",
   "name": "python",
   "nbconvert_exporter": "python",
   "pygments_lexer": "ipython3",
   "version": "3.7.6"
  }
 },
 "nbformat": 4,
 "nbformat_minor": 4
}
